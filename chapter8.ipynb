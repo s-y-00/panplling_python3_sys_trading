{
 "cells": [
  {
   "cell_type": "code",
   "execution_count": null,
   "metadata": {},
   "outputs": [],
   "source": [
    "%matplotlib inline\n",
    "import pandas as pd\n",
    "import pandas_datareader.data as pdr\n",
    "import numpy as np\n",
    "import matplotlib.pyplot as plt\n",
    "import statsmodels.api as sm\n",
    "n225 = pdr.DataReader(\"NIKKEI225\",'fred',\"1949/5/16\").dropna()\n",
    "lnn225=np.log(n225)\n",
    "fig = plt.figure(figsize=(8,2))\n",
    "ax1 = fig.add_subplot(1,2,1)\n",
    "fig = sm.graphics.tsa.plot_acf(lnn225.squeeze(),lags=5000,color='lightgray',ax=ax1)\n",
    "ax2 = fig.add_subplot(1,2,2)\n",
    "fig = sm.graphics.tsa.plot_acf(lnn225.squeeze(),lags=40,color='lightgray',ax=ax2)"
   ]
  },
  {
   "cell_type": "code",
   "execution_count": null,
   "metadata": {},
   "outputs": [],
   "source": [
    "arma_mod = sm.tsa.ARMA(lnn225,order=(1,0))\n",
    "arma_res = arma_mod.fit(trend='c',disp=-1)\n",
    "print(arma_res.summary())"
   ]
  },
  {
   "cell_type": "code",
   "execution_count": null,
   "metadata": {},
   "outputs": [],
   "source": [
    "arma_res.resid.iloc[1:].plot(figsize=(6,4),color='seagreen')\n",
    "plt.ylabel('$\\hat{z_t}$')"
   ]
  },
  {
   "cell_type": "code",
   "execution_count": null,
   "metadata": {},
   "outputs": [],
   "source": [
    "from statsmodels.tsa import stattools\n",
    "acf,q,pvalue = stattools.acf(arma_res.resid,nlags=5,qstat=True)\n",
    "pacf,confint = stattools.pacf(arma_res.resid,nlags=5,alpha=0.05)\n",
    "print(\"自己相関係数: \",acf)\n",
    "print(\"p値: \",pvalue)\n",
    "print(\"偏自己相関: \",pacf)\n",
    "print(\"95%信頼区間: \",confint)"
   ]
  },
  {
   "cell_type": "code",
   "execution_count": null,
   "metadata": {},
   "outputs": [],
   "source": [
    "p=sm.tsa.adfuller(arma_res.resid,regression='nc')[1]\n",
    "p1=sm.tsa.adfuller(arma_res.resid,regression='nc')[1]\n",
    "print(\"ドリフト無しランダムウォーク p値: \",p)\n",
    "print(\"ドリフト付きランダムウォーク p値: \",p1)"
   ]
  },
  {
   "cell_type": "code",
   "execution_count": null,
   "metadata": {},
   "outputs": [],
   "source": [
    "from scipy.stats import t\n",
    "resid=arma_res.resid.iloc[1:]\n",
    "m=resid.mean()\n",
    "v=resid.std()\n",
    "resid_max=pd.Series.rolling(arma_res.resid,window=250).mean().max()\n",
    "resid_min=pd.Series.rolling(arma_res.resid,window=250).mean().min()\n",
    "print(\"平均: %2.5f\"%m,\"標準偏差: %2.4f\"%v)\n",
    "print(\"250日平均の最大値: %2.5f\"%resid_max,\"250日平均の最小値: %2.5f\"%resid_min)\n",
    "print(\"250日平均の95％の信頼区間:\",(t.interval(alpha=0.95,df=250,loc=0,scale=v)))"
   ]
  },
  {
   "cell_type": "code",
   "execution_count": null,
   "metadata": {},
   "outputs": [],
   "source": [
    "pd.Series.rolling(arma_res.resid.iloc[1:],250).mean().plot(figsize=(6,4),color='hotpink')\n",
    "plt.ylabel('$\\hat{z_t}$')"
   ]
  },
  {
   "cell_type": "code",
   "execution_count": null,
   "metadata": {},
   "outputs": [],
   "source": [
    "from scipy.stats import chi2\n",
    "resid=arma_res.resid.iloc[1:]\n",
    "m=resid.mean()\n",
    "v=resid.std()\n",
    "resid_max=pd.Series.rolling(arma_res.resid,window=250).std().max()\n",
    "resid_min=pd.Series.rolling(arma_res.resid,window=250).std().min()\n",
    "print(\"平均: %2.5f\"%m,\"標準偏差: %2.5f\"%v)\n",
    "print(\"250日標準偏差の最大値:%2.5f\"%resid_max,\"250日標準偏差の最小値:%2.5f\"%resid_min)\n",
    "\n",
    "cint1,cint2=chi2.interval(alpha=(0.95),df=249)\n",
    "\n",
    "print(\"250日標準偏差の信頼区間:%2.4f\"%(np.sqrt(cint1/249)*v),)\n",
    "print(\"<= \\sigma <=%2.4f\"%(np.sqrt(cint2/249)*v))"
   ]
  },
  {
   "cell_type": "code",
   "execution_count": null,
   "metadata": {},
   "outputs": [],
   "source": [
    "pd.Series.rolling(arma_res.resid.iloc[1:],250).std().plot(figsize=(6,4),color='darkgray')\n",
    "plt.ylabel('$std$')"
   ]
  },
  {
   "cell_type": "code",
   "execution_count": null,
   "metadata": {},
   "outputs": [],
   "source": [
    "bcs=[\"1949/5/16\",\"1954/12/1\",\"1972/1/1\",\"1986/12/1\",\"1986/12/1\",\"1993/11/1\",\"1999/2/1\",\"2002/2/1\",\"2009/4/1\"]\n",
    "bce=[\"1954/11/30\",\"1971/12/31\",\"1986/11/30\",\"1989/12/31\",\"1993/10/30\",\"1999/1/31\",\"2002/1/31\",\"2009/3/31\",\"2012/11/30\"]\n",
    "for i in range(len(bcs)):\n",
    "    y=lnn225.loc[bcs[i]:bce[i]].dropna()\n",
    "    fig = plt.figure(figsize=(8,2))\n",
    "    ax1 = fig.add_subplot(1,2,1)\n",
    "    fig = sm.graphics.tsa.plot_acf(y.squeeze(),lags=120,ax=ax1,color='darkgray')\n",
    "    plt.title(bcs[i]+' - acf')\n",
    "    ax2 = fig.add_subplot(1,2,2)\n",
    "    fig = sm.graphics.tsa.plot_pacf(y.squeeze(),lags=20,ax=ax2,color='seagreen')\n",
    "    plt.title(bcs[i]+' - pacf')"
   ]
  },
  {
   "cell_type": "code",
   "execution_count": null,
   "metadata": {},
   "outputs": [],
   "source": [
    "for i in range(len(bcs)):\n",
    "    y=lnn225.loc[bcs[i]:bce[i]].dropna()\n",
    "    arma_mod = sm.tsa.ARMA(y,order=(1,0))\n",
    "    arma_res = arma_mod.fit(trend='c',disp=-1)\n",
    "    print(bcs[i],arma_res.arparams,arma_res.resid.std())"
   ]
  },
  {
   "cell_type": "code",
   "execution_count": null,
   "metadata": {},
   "outputs": [],
   "source": []
  }
 ],
 "metadata": {
  "anaconda-cloud": {},
  "kernelspec": {
   "display_name": "Python 3",
   "language": "python",
   "name": "python3"
  },
  "language_info": {
   "codemirror_mode": {
    "name": "ipython",
    "version": 3
   },
   "file_extension": ".py",
   "mimetype": "text/x-python",
   "name": "python",
   "nbconvert_exporter": "python",
   "pygments_lexer": "ipython3",
   "version": "3.6.5"
  }
 },
 "nbformat": 4,
 "nbformat_minor": 1
}
